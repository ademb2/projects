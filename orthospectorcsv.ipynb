{
 "cells": [
  {
   "cell_type": "code",
   "execution_count": 1,
   "metadata": {},
   "outputs": [],
   "source": [
    "import json\n",
    "import requests\n"
   ]
  },
  {
   "cell_type": "code",
   "execution_count": 11,
   "metadata": {},
   "outputs": [
    {
     "name": "stdout",
     "output_type": "stream",
     "text": [
      "CSV file created successfully!\n"
     ]
    }
   ],
   "source": [
    "import csv\n",
    "# Define the URL\n",
    "url_template = \"https://lbgi.fr/api/orthoinspector/Eukaryota2019/protein/{}\"\n",
    "\n",
    "# List of access codes\n",
    "access_codes = ['P01011', 'P05067', 'P00748', 'P02778', 'P00734', 'P01008', 'P02751', 'P00405', 'P07355', 'P06702'] \n",
    "# Create a list to store the rows\n",
    "csv_rows = []\n",
    "\n",
    "# Iterate over each access code\n",
    "for access_code in access_codes:\n",
    "    # Construct the URL with the access code\n",
    "    url = url_template.format(access_code)\n",
    "\n",
    "    # Send GET request and handle potential errors\n",
    "    try:\n",
    "        response = requests.get(url)\n",
    "        response.raise_for_status()  # Raise an exception for non-200 status codes\n",
    "    except requests.exceptions.RequestException as e:\n",
    "        print(f\"Error fetching data for access code {access_code}: {e}\")\n",
    "        continue\n",
    "\n",
    "    # Parse JSON data\n",
    "    data = response.json()\n",
    "\n",
    "    # Check if request was successful\n",
    "    if data[\"meta\"][\"status\"] != \"success\":\n",
    "        print(f\"Error: API request failed with status for access code {access_code}: {data['meta']['status']}\")\n",
    "        continue\n",
    "\n",
    "    # Extract relevant data\n",
    "    protein_data = {\n",
    "        \"access\": data[\"data\"][\"access\"],\n",
    "        \"uniprot_id\": data[\"data\"][\"uniprot_id\"],\n",
    "        \"description\": data[\"data\"][\"description\"],\n",
    "        \"sequence\": data[\"data\"][\"sequence\"],\n",
    "        \"species\": data[\"data\"][\"species\"],\n",
    "    }\n",
    "\n",
    "    # Append the protein_data to the csv_rows list\n",
    "    csv_rows.append(protein_data)\n",
    "\n",
    "# Create CSV header\n",
    "csv_header = \", \".join(csv_rows[0].keys())\n",
    "\n",
    "# Write data to CSV file\n",
    "with open(\"protein_data.csv\", \"w\") as csvfile:\n",
    "    writer = csv.DictWriter(csvfile, fieldnames=csv_rows[0].keys())\n",
    "    writer.writeheader()\n",
    "    writer.writerows(csv_rows)\n",
    "\n",
    "print(\"CSV file created successfully!\")\n"
   ]
  },
  {
   "cell_type": "code",
   "execution_count": 21,
   "metadata": {},
   "outputs": [
    {
     "name": "stdout",
     "output_type": "stream",
     "text": [
      "CSV file created successfully!\n"
     ]
    }
   ],
   "source": [
    "import csv\n",
    "\n",
    "# Define the URL template\n",
    "url_template = \"https://lbgi.fr/api/orthoinspector/Eukaryota2019/protein/{}/orthologs\"\n",
    "\n",
    "# List of access codes\n",
    "access_codes = ['P01011']#, 'P05067', 'P00748', 'P02778', 'P00734', 'P01008', 'P02751', 'P00405', 'P07355', 'P06702'] \n",
    "\n",
    "# Create a list to store the rows\n",
    "csv_rows = []\n",
    "\n",
    "# Iterate over each access code\n",
    "for access_code in access_codes:\n",
    "    # Construct the URL with the access code\n",
    "    url = url_template.format(access_code)\n",
    "\n",
    "    # Send GET request and handle potential errors\n",
    "    try:\n",
    "        response = requests.get(url)\n",
    "        response.raise_for_status()  # Raise an exception for non-200 status codes\n",
    "    except requests.exceptions.RequestException as e:\n",
    "        print(f\"Error fetching data for access code {access_code}: {e}\")\n",
    "        continue\n",
    "\n",
    "    # Parse JSON data\n",
    "    data = response.json()\n",
    "\n",
    "    # Check if request was successful\n",
    "    if data[\"meta\"][\"status\"] != \"success\":\n",
    "        print(f\"Error: API request failed with status for access code {access_code}: {data['meta']['status']}\")\n",
    "        continue\n",
    "\n",
    "    # Extract relevant data\n",
    "    orthologs_data = data[\"data\"]\n",
    "\n",
    "    # Iterate over each orthologs data\n",
    "    for ortholog_data in orthologs_data:\n",
    "        # Extract relevant information\n",
    "        ortholog_type = ortholog_data[\"type\"]\n",
    "        species = ortholog_data[\"species\"]\n",
    "        inparalogs = ortholog_data[\"inparalogs\"]\n",
    "        orthologs = ortholog_data[\"orthologs\"]\n",
    "\n",
    "        # Create a dictionary for the row\n",
    "        row = {\n",
    "            \"access\": access_code,\n",
    "            \"type\": ortholog_type,\n",
    "            \"species\": species,\n",
    "            \"inparalogs\": inparalogs,\n",
    "            \"orthologs\": orthologs\n",
    "        }\n",
    "\n",
    "        # Append the row to the csv_rows list\n",
    "        csv_rows.append(row)\n",
    "\n",
    "# Create CSV header\n",
    "csv_header = \", \".join(csv_rows[0].keys())\n",
    "\n",
    "# Write data to CSV file with tab as separator\n",
    "with open(\"orthologs_data.csv\", \"w\") as csvfile:\n",
    "    writer = csv.DictWriter(csvfile, fieldnames=csv_rows[0].keys(), delimiter='\\t')\n",
    "    writer.writeheader()\n",
    "    writer.writerows(csv_rows)\n",
    "\n",
    "print(\"CSV file created successfully!\")\n"
   ]
  }
 ],
 "metadata": {
  "kernelspec": {
   "display_name": "tf25",
   "language": "python",
   "name": "python3"
  },
  "language_info": {
   "codemirror_mode": {
    "name": "ipython",
    "version": 3
   },
   "file_extension": ".py",
   "mimetype": "text/x-python",
   "name": "python",
   "nbconvert_exporter": "python",
   "pygments_lexer": "ipython3",
   "version": "3.9.15"
  }
 },
 "nbformat": 4,
 "nbformat_minor": 2
}
