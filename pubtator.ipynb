{
 "cells": [
  {
   "cell_type": "code",
   "execution_count": 3,
   "metadata": {},
   "outputs": [],
   "source": [
    "import gzip\n",
    "import pandas as pd\n",
    "import urllib.request"
   ]
  },
  {
   "cell_type": "code",
   "execution_count": 4,
   "metadata": {},
   "outputs": [],
   "source": [
    "\n",
    "url = \"https://ftp.ncbi.nlm.nih.gov/pub/lu/PubTatorCentral/bioconcepts2pubtatorcentral.gz\"\n",
    "file_path = \"bioconcepts2pubtatorcentral.gz\"\n",
    "\n",
    "# Download the file\n",
    "#urllib.request.urlretrieve(url, file_path)\n",
    "\n"
   ]
  },
  {
   "cell_type": "code",
   "execution_count": 5,
   "metadata": {},
   "outputs": [
    {
     "name": "stderr",
     "output_type": "stream",
     "text": [
      "/tmp/ipykernel_31184/259254289.py:3: DtypeWarning: Columns (2,3) have mixed types. Specify dtype option on import or set low_memory=False.\n",
      "  df = pd.read_csv(f, delimiter=\"\\t\", header=None)\n"
     ]
    },
    {
     "data": {
      "text/html": [
       "<div>\n",
       "<style scoped>\n",
       "    .dataframe tbody tr th:only-of-type {\n",
       "        vertical-align: middle;\n",
       "    }\n",
       "\n",
       "    .dataframe tbody tr th {\n",
       "        vertical-align: top;\n",
       "    }\n",
       "\n",
       "    .dataframe thead th {\n",
       "        text-align: right;\n",
       "    }\n",
       "</style>\n",
       "<table border=\"1\" class=\"dataframe\">\n",
       "  <thead>\n",
       "    <tr style=\"text-align: right;\">\n",
       "      <th></th>\n",
       "      <th>0</th>\n",
       "      <th>1</th>\n",
       "      <th>2</th>\n",
       "      <th>3</th>\n",
       "      <th>4</th>\n",
       "    </tr>\n",
       "  </thead>\n",
       "  <tbody>\n",
       "    <tr>\n",
       "      <th>0</th>\n",
       "      <td>3958000</td>\n",
       "      <td>Species</td>\n",
       "      <td>9606</td>\n",
       "      <td>patients</td>\n",
       "      <td>SR4GN</td>\n",
       "    </tr>\n",
       "    <tr>\n",
       "      <th>1</th>\n",
       "      <td>3958000</td>\n",
       "      <td>Disease</td>\n",
       "      <td>MESH:D012544</td>\n",
       "      <td>Scheuermann's kyphosis</td>\n",
       "      <td>TaggerOne</td>\n",
       "    </tr>\n",
       "    <tr>\n",
       "      <th>2</th>\n",
       "      <td>3958000</td>\n",
       "      <td>Disease</td>\n",
       "      <td>MESH:D007738</td>\n",
       "      <td>kyphosis</td>\n",
       "      <td>TaggerOne|MESH</td>\n",
       "    </tr>\n",
       "    <tr>\n",
       "      <th>3</th>\n",
       "      <td>3958000</td>\n",
       "      <td>Disease</td>\n",
       "      <td>MESH:D011183</td>\n",
       "      <td>NaN</td>\n",
       "      <td>MESH</td>\n",
       "    </tr>\n",
       "    <tr>\n",
       "      <th>4</th>\n",
       "      <td>23574000</td>\n",
       "      <td>Species</td>\n",
       "      <td>9615</td>\n",
       "      <td>dogs</td>\n",
       "      <td>SR4GN</td>\n",
       "    </tr>\n",
       "    <tr>\n",
       "      <th>...</th>\n",
       "      <td>...</td>\n",
       "      <td>...</td>\n",
       "      <td>...</td>\n",
       "      <td>...</td>\n",
       "      <td>...</td>\n",
       "    </tr>\n",
       "    <tr>\n",
       "      <th>431818051</th>\n",
       "      <td>30090999</td>\n",
       "      <td>Disease</td>\n",
       "      <td>MESH:D004194</td>\n",
       "      <td>emotional stress</td>\n",
       "      <td>TaggerOne</td>\n",
       "    </tr>\n",
       "    <tr>\n",
       "      <th>431818052</th>\n",
       "      <td>30090999</td>\n",
       "      <td>Gene</td>\n",
       "      <td>3630</td>\n",
       "      <td>Insulin</td>\n",
       "      <td>GNormPlus</td>\n",
       "    </tr>\n",
       "    <tr>\n",
       "      <th>431818053</th>\n",
       "      <td>30090999</td>\n",
       "      <td>Gene</td>\n",
       "      <td>5617</td>\n",
       "      <td>prolactin</td>\n",
       "      <td>GNormPlus</td>\n",
       "    </tr>\n",
       "    <tr>\n",
       "      <th>431818054</th>\n",
       "      <td>30090999</td>\n",
       "      <td>Gene</td>\n",
       "      <td>43</td>\n",
       "      <td>Ache</td>\n",
       "      <td>GNormPlus</td>\n",
       "    </tr>\n",
       "    <tr>\n",
       "      <th>431818055</th>\n",
       "      <td>30090999</td>\n",
       "      <td>Disease</td>\n",
       "      <td>MESH:D000067073</td>\n",
       "      <td>psychological dynamism</td>\n",
       "      <td>TaggerOne</td>\n",
       "    </tr>\n",
       "  </tbody>\n",
       "</table>\n",
       "<p>431818056 rows × 5 columns</p>\n",
       "</div>"
      ],
      "text/plain": [
       "                  0        1                2                       3  \\\n",
       "0           3958000  Species             9606                patients   \n",
       "1           3958000  Disease     MESH:D012544  Scheuermann's kyphosis   \n",
       "2           3958000  Disease     MESH:D007738                kyphosis   \n",
       "3           3958000  Disease     MESH:D011183                     NaN   \n",
       "4          23574000  Species             9615                    dogs   \n",
       "...             ...      ...              ...                     ...   \n",
       "431818051  30090999  Disease     MESH:D004194        emotional stress   \n",
       "431818052  30090999     Gene             3630                 Insulin   \n",
       "431818053  30090999     Gene             5617               prolactin   \n",
       "431818054  30090999     Gene               43                    Ache   \n",
       "431818055  30090999  Disease  MESH:D000067073  psychological dynamism   \n",
       "\n",
       "                        4  \n",
       "0                   SR4GN  \n",
       "1               TaggerOne  \n",
       "2          TaggerOne|MESH  \n",
       "3                    MESH  \n",
       "4                   SR4GN  \n",
       "...                   ...  \n",
       "431818051       TaggerOne  \n",
       "431818052       GNormPlus  \n",
       "431818053       GNormPlus  \n",
       "431818054       GNormPlus  \n",
       "431818055       TaggerOne  \n",
       "\n",
       "[431818056 rows x 5 columns]"
      ]
     },
     "execution_count": 5,
     "metadata": {},
     "output_type": "execute_result"
    }
   ],
   "source": [
    "# Unzip the file\n",
    "with gzip.open(file_path, 'rb') as f:\n",
    "    df = pd.read_csv(f, delimiter=\"\\t\", header=None)\n",
    "\n",
    "df"
   ]
  },
  {
   "cell_type": "code",
   "execution_count": 30,
   "metadata": {},
   "outputs": [],
   "source": [
    "# Open the file in read mode\n",
    "with open(\"teeth_pmids.txt\", 'r') as file:\n",
    "  # Read all PMIDs into a list, skipping any lines that cannot be converted to an integer\n",
    "  pmids = [int(line.strip()) for line in file if line.strip().isdigit()]\n",
    "\n",
    "\n"
   ]
  },
  {
   "cell_type": "code",
   "execution_count": 31,
   "metadata": {},
   "outputs": [
    {
     "data": {
      "text/html": [
       "<div>\n",
       "<style scoped>\n",
       "    .dataframe tbody tr th:only-of-type {\n",
       "        vertical-align: middle;\n",
       "    }\n",
       "\n",
       "    .dataframe tbody tr th {\n",
       "        vertical-align: top;\n",
       "    }\n",
       "\n",
       "    .dataframe thead th {\n",
       "        text-align: right;\n",
       "    }\n",
       "</style>\n",
       "<table border=\"1\" class=\"dataframe\">\n",
       "  <thead>\n",
       "    <tr style=\"text-align: right;\">\n",
       "      <th></th>\n",
       "      <th>0</th>\n",
       "      <th>1</th>\n",
       "      <th>2</th>\n",
       "      <th>3</th>\n",
       "      <th>4</th>\n",
       "    </tr>\n",
       "  </thead>\n",
       "  <tbody>\n",
       "    <tr>\n",
       "      <th>1923</th>\n",
       "      <td>25133000</td>\n",
       "      <td>Disease</td>\n",
       "      <td>MESH:D003790</td>\n",
       "      <td>pulp necrosis</td>\n",
       "      <td>TaggerOne</td>\n",
       "    </tr>\n",
       "    <tr>\n",
       "      <th>1924</th>\n",
       "      <td>25133000</td>\n",
       "      <td>Chemical</td>\n",
       "      <td>MESH:D017665</td>\n",
       "      <td>hydroxyl|Hydroxyl</td>\n",
       "      <td>TaggerOne</td>\n",
       "    </tr>\n",
       "    <tr>\n",
       "      <th>1925</th>\n",
       "      <td>25133000</td>\n",
       "      <td>Chemical</td>\n",
       "      <td>MESH:D002118</td>\n",
       "      <td>calcium</td>\n",
       "      <td>TaggerOne</td>\n",
       "    </tr>\n",
       "    <tr>\n",
       "      <th>1926</th>\n",
       "      <td>25133000</td>\n",
       "      <td>Chemical</td>\n",
       "      <td>MESH:D002266</td>\n",
       "      <td>carboxymethyl cellulose</td>\n",
       "      <td>TaggerOne</td>\n",
       "    </tr>\n",
       "    <tr>\n",
       "      <th>1927</th>\n",
       "      <td>25133000</td>\n",
       "      <td>Chemical</td>\n",
       "      <td>MESH:D004492</td>\n",
       "      <td>EDTA</td>\n",
       "      <td>TaggerOne</td>\n",
       "    </tr>\n",
       "    <tr>\n",
       "      <th>...</th>\n",
       "      <td>...</td>\n",
       "      <td>...</td>\n",
       "      <td>...</td>\n",
       "      <td>...</td>\n",
       "      <td>...</td>\n",
       "    </tr>\n",
       "    <tr>\n",
       "      <th>431814761</th>\n",
       "      <td>34716999</td>\n",
       "      <td>Disease</td>\n",
       "      <td>MESH:D007239</td>\n",
       "      <td>infection</td>\n",
       "      <td>TaggerOne</td>\n",
       "    </tr>\n",
       "    <tr>\n",
       "      <th>431814762</th>\n",
       "      <td>34716999</td>\n",
       "      <td>Chemical</td>\n",
       "      <td>MESH:D007559</td>\n",
       "      <td>NaN</td>\n",
       "      <td>MESH</td>\n",
       "    </tr>\n",
       "    <tr>\n",
       "      <th>431815272</th>\n",
       "      <td>21209999</td>\n",
       "      <td>Species</td>\n",
       "      <td>9606</td>\n",
       "      <td>patients</td>\n",
       "      <td>SR4GN</td>\n",
       "    </tr>\n",
       "    <tr>\n",
       "      <th>431815273</th>\n",
       "      <td>21209999</td>\n",
       "      <td>Disease</td>\n",
       "      <td>MESH:D016388</td>\n",
       "      <td>NaN</td>\n",
       "      <td>MESH</td>\n",
       "    </tr>\n",
       "    <tr>\n",
       "      <th>431815274</th>\n",
       "      <td>21209999</td>\n",
       "      <td>Disease</td>\n",
       "      <td>MESH:D007576</td>\n",
       "      <td>NaN</td>\n",
       "      <td>MESH</td>\n",
       "    </tr>\n",
       "  </tbody>\n",
       "</table>\n",
       "<p>2634652 rows × 5 columns</p>\n",
       "</div>"
      ],
      "text/plain": [
       "                  0         1             2                        3  \\\n",
       "1923       25133000   Disease  MESH:D003790            pulp necrosis   \n",
       "1924       25133000  Chemical  MESH:D017665        hydroxyl|Hydroxyl   \n",
       "1925       25133000  Chemical  MESH:D002118                  calcium   \n",
       "1926       25133000  Chemical  MESH:D002266  carboxymethyl cellulose   \n",
       "1927       25133000  Chemical  MESH:D004492                     EDTA   \n",
       "...             ...       ...           ...                      ...   \n",
       "431814761  34716999   Disease  MESH:D007239                infection   \n",
       "431814762  34716999  Chemical  MESH:D007559                      NaN   \n",
       "431815272  21209999   Species          9606                 patients   \n",
       "431815273  21209999   Disease  MESH:D016388                      NaN   \n",
       "431815274  21209999   Disease  MESH:D007576                      NaN   \n",
       "\n",
       "                   4  \n",
       "1923       TaggerOne  \n",
       "1924       TaggerOne  \n",
       "1925       TaggerOne  \n",
       "1926       TaggerOne  \n",
       "1927       TaggerOne  \n",
       "...              ...  \n",
       "431814761  TaggerOne  \n",
       "431814762       MESH  \n",
       "431815272      SR4GN  \n",
       "431815273       MESH  \n",
       "431815274       MESH  \n",
       "\n",
       "[2634652 rows x 5 columns]"
      ]
     },
     "execution_count": 31,
     "metadata": {},
     "output_type": "execute_result"
    }
   ],
   "source": [
    "df_filtered = df[df[0].isin(pmids)]\n",
    "df_filtered"
   ]
  },
  {
   "cell_type": "code",
   "execution_count": 32,
   "metadata": {},
   "outputs": [
    {
     "name": "stdout",
     "output_type": "stream",
     "text": [
      "Number of unique values in column 0: 234993\n"
     ]
    }
   ],
   "source": [
    "unique_values = df_filtered[0].nunique()\n",
    "print(\"Number of unique values in column 0:\", unique_values)\n"
   ]
  },
  {
   "cell_type": "code",
   "execution_count": 25,
   "metadata": {},
   "outputs": [
    {
     "data": {
      "text/plain": [
       "72102"
      ]
     },
     "execution_count": 25,
     "metadata": {},
     "output_type": "execute_result"
    }
   ],
   "source": [
    "pmids_not_in_df = set(pmids) - set(df[0])\n",
    "count_pmids_not_in_df = len(pmids_not_in_df)\n",
    "count_pmids_not_in_df"
   ]
  },
  {
   "cell_type": "code",
   "execution_count": 36,
   "metadata": {},
   "outputs": [
    {
     "data": {
      "text/plain": [
       "307095"
      ]
     },
     "execution_count": 36,
     "metadata": {},
     "output_type": "execute_result"
    }
   ],
   "source": [
    "len(set(pmids)) "
   ]
  },
  {
   "cell_type": "code",
   "execution_count": 33,
   "metadata": {},
   "outputs": [
    {
     "data": {
      "text/plain": [
       "345938"
      ]
     },
     "execution_count": 33,
     "metadata": {},
     "output_type": "execute_result"
    }
   ],
   "source": [
    "len(pmids)"
   ]
  },
  {
   "cell_type": "code",
   "execution_count": 41,
   "metadata": {},
   "outputs": [
    {
     "data": {
      "text/plain": [
       "28421223"
      ]
     },
     "execution_count": 41,
     "metadata": {},
     "output_type": "execute_result"
    }
   ],
   "source": [
    "df[0].nunique()"
   ]
  },
  {
   "cell_type": "code",
   "execution_count": 42,
   "metadata": {},
   "outputs": [
    {
     "data": {
      "text/plain": [
       "28421223"
      ]
     },
     "execution_count": 42,
     "metadata": {},
     "output_type": "execute_result"
    }
   ],
   "source": [
    "len(set(df[0]))"
   ]
  },
  {
   "cell_type": "code",
   "execution_count": 35,
   "metadata": {},
   "outputs": [
    {
     "data": {
      "text/plain": [
       "234993"
      ]
     },
     "execution_count": 35,
     "metadata": {},
     "output_type": "execute_result"
    }
   ],
   "source": [
    "df_filtered[0].nunique()"
   ]
  }
 ],
 "metadata": {
  "kernelspec": {
   "display_name": "base",
   "language": "python",
   "name": "python3"
  },
  "language_info": {
   "codemirror_mode": {
    "name": "ipython",
    "version": 3
   },
   "file_extension": ".py",
   "mimetype": "text/x-python",
   "name": "python",
   "nbconvert_exporter": "python",
   "pygments_lexer": "ipython3",
   "version": "3.9.15"
  }
 },
 "nbformat": 4,
 "nbformat_minor": 2
}
